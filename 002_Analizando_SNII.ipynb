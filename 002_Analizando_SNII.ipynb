{
 "cells": [
  {
   "cell_type": "code",
   "execution_count": 1,
   "id": "3a5814f8-475c-4d4c-bb54-08f328dea423",
   "metadata": {},
   "outputs": [],
   "source": [
    "import pandas as pd"
   ]
  },
  {
   "cell_type": "code",
   "execution_count": 2,
   "id": "3479dacf-d1a6-4a5d-9418-64fd084c92a3",
   "metadata": {
    "scrolled": true
   },
   "outputs": [],
   "source": [
    "f = \"../data/Investigadores_vigentes_2023.xlsx\"\n",
    "snii = pd.read_excel(f)"
   ]
  },
  {
   "cell_type": "code",
   "execution_count": 3,
   "id": "93a3e0b0-d9f0-42e8-a9f8-17bb5df3efd8",
   "metadata": {
    "scrolled": true
   },
   "outputs": [
    {
     "data": {
      "text/html": [
       "<div>\n",
       "<style scoped>\n",
       "    .dataframe tbody tr th:only-of-type {\n",
       "        vertical-align: middle;\n",
       "    }\n",
       "\n",
       "    .dataframe tbody tr th {\n",
       "        vertical-align: top;\n",
       "    }\n",
       "\n",
       "    .dataframe thead th {\n",
       "        text-align: right;\n",
       "    }\n",
       "</style>\n",
       "<table border=\"1\" class=\"dataframe\">\n",
       "  <thead>\n",
       "    <tr style=\"text-align: right;\">\n",
       "      <th></th>\n",
       "      <th>CVU</th>\n",
       "      <th>GRADO ACADÉMICO</th>\n",
       "      <th>NOMBRE DEL INVESTIGADOR</th>\n",
       "      <th>NIVEL</th>\n",
       "      <th>EMÉRITO</th>\n",
       "      <th>VIVO?</th>\n",
       "      <th>FECHA DE INICIO DE VIGENCIA</th>\n",
       "      <th>FECHA DE FIN DE VIGENCIA</th>\n",
       "      <th>ÁREA DEL CONOCIMIENTO</th>\n",
       "      <th>DISCIPLINA</th>\n",
       "      <th>SUBDISCIPLINA</th>\n",
       "      <th>ESPECIALIDAD</th>\n",
       "      <th>INSTITUCIÓN DE ADSCRIPCIÓN</th>\n",
       "      <th>DEPENDENCIA DE ADSCRIPCIÓN</th>\n",
       "      <th>ENTIDAD FEDERATIVA DE ADSCRIPCIÓN</th>\n",
       "      <th>PAÍS DE ADSCRIPCIÓN</th>\n",
       "      <th>APOYO ECONÓMICO</th>\n",
       "    </tr>\n",
       "  </thead>\n",
       "  <tbody>\n",
       "    <tr>\n",
       "      <th>0</th>\n",
       "      <td>4</td>\n",
       "      <td>DR.</td>\n",
       "      <td>ALONSO SANCHEZ,JORGE</td>\n",
       "      <td>3</td>\n",
       "      <td>EMÉRITO</td>\n",
       "      <td>SI</td>\n",
       "      <td>2016-01-01 00:00:00</td>\n",
       "      <td>2099-12-31 00:00:00</td>\n",
       "      <td>V.- HUMANIDADES.</td>\n",
       "      <td>OTRAS ESPECIALIDADES EN MATERIA DE ANTROPOLOGIA</td>\n",
       "      <td>ANTROPOLOGIA SOCIAL</td>\n",
       "      <td>ANTROPOLOGÍA POLÍTICA</td>\n",
       "      <td>CENTRO DE INVESTIGACIONES Y ESTUDIOS SUPERIORE...</td>\n",
       "      <td>OCCIDENTE</td>\n",
       "      <td>JALISCO</td>\n",
       "      <td>MÉXICO</td>\n",
       "      <td>La entrega del estímulo económico está sujeto ...</td>\n",
       "    </tr>\n",
       "    <tr>\n",
       "      <th>1</th>\n",
       "      <td>5</td>\n",
       "      <td>DRA.</td>\n",
       "      <td>AZAOLA GARRIDO,ELENA</td>\n",
       "      <td>3</td>\n",
       "      <td>EMÉRITO</td>\n",
       "      <td>SI</td>\n",
       "      <td>2019-01-01 00:00:00</td>\n",
       "      <td>2100-12-31 00:00:00</td>\n",
       "      <td>V.- HUMANIDADES.</td>\n",
       "      <td>ANTROPOLOGIA SOCIAL</td>\n",
       "      <td>OTROS</td>\n",
       "      <td>PROBLEMAS SOCIALES, DELINCUENCIA, VIOLENCIA</td>\n",
       "      <td>CENTRO DE INVESTIGACIONES Y ESTUDIOS SUPERIORE...</td>\n",
       "      <td>AREA IV ESTADO ORGANIZACION POLITICA SOCIAL Y ...</td>\n",
       "      <td>CIUDAD DE MÉXICO</td>\n",
       "      <td>MÉXICO</td>\n",
       "      <td>NaN</td>\n",
       "    </tr>\n",
       "    <tr>\n",
       "      <th>2</th>\n",
       "      <td>14</td>\n",
       "      <td>BIOL.</td>\n",
       "      <td>CALDERON DIAZ BARRIGA,GRACIELA</td>\n",
       "      <td>3</td>\n",
       "      <td>EMÉRITO</td>\n",
       "      <td>SI</td>\n",
       "      <td>2005-01-02 00:00:00</td>\n",
       "      <td>2099-12-31 00:00:00</td>\n",
       "      <td>II.- BIOLOGÍA Y QUÍMICA</td>\n",
       "      <td>CIENCIAS DE LA VIDA</td>\n",
       "      <td>BOTANICA</td>\n",
       "      <td>SISTEMATICA DE PLANTAS VASCULARES</td>\n",
       "      <td>INSTITUTO DE ECOLOGIA A.C. (INECOL)</td>\n",
       "      <td>CENTRO REGIONAL DEL BAJIO</td>\n",
       "      <td>VERACRUZ DE IGNACIO DE LA LLAVE</td>\n",
       "      <td>MÉXICO</td>\n",
       "      <td>NaN</td>\n",
       "    </tr>\n",
       "    <tr>\n",
       "      <th>3</th>\n",
       "      <td>15</td>\n",
       "      <td>DR.</td>\n",
       "      <td>RZEDOWSKI ROTTER,JERZY</td>\n",
       "      <td>3</td>\n",
       "      <td>EMÉRITO</td>\n",
       "      <td>SI</td>\n",
       "      <td>1991-07-02 00:00:00</td>\n",
       "      <td>2099-06-30 00:00:00</td>\n",
       "      <td>II.- BIOLOGÍA Y QUÍMICA</td>\n",
       "      <td>CIENCIAS DE LA VIDA</td>\n",
       "      <td>BOTANICA</td>\n",
       "      <td>NaN</td>\n",
       "      <td>INSTITUTO DE ECOLOGIA A.C. (INECOL)</td>\n",
       "      <td>CENTRO REGIONAL DEL BAJIO</td>\n",
       "      <td>MICHOACÁN DE OCAMPO</td>\n",
       "      <td>MÉXICO</td>\n",
       "      <td>NaN</td>\n",
       "    </tr>\n",
       "    <tr>\n",
       "      <th>4</th>\n",
       "      <td>18</td>\n",
       "      <td>DR.</td>\n",
       "      <td>PEREZ ANGON,MIGUEL ANGEL</td>\n",
       "      <td>3</td>\n",
       "      <td>NaN</td>\n",
       "      <td>SI</td>\n",
       "      <td>2019-01-01 00:00:00</td>\n",
       "      <td>2028-12-31 00:00:00</td>\n",
       "      <td>I.- FÍSICO-MATEMÁTICAS Y CIENCIAS DE LA TIERRA</td>\n",
       "      <td>FISICA DE LAS PARTICULAS NUCLEARES</td>\n",
       "      <td>FISICA DE PARTICULAS</td>\n",
       "      <td>FENOMENOLOGIA DE INTERACCIONES ELECTRODEBILES</td>\n",
       "      <td>CENTRO DE INVESTIGACION Y DE ESTUDIOS AVANZADO...</td>\n",
       "      <td>DEPARTAMENTO DE FISICA</td>\n",
       "      <td>CIUDAD DE MÉXICO</td>\n",
       "      <td>MÉXICO</td>\n",
       "      <td>NaN</td>\n",
       "    </tr>\n",
       "  </tbody>\n",
       "</table>\n",
       "</div>"
      ],
      "text/plain": [
       "   CVU GRADO ACADÉMICO         NOMBRE DEL INVESTIGADOR NIVEL  EMÉRITO VIVO?  \\\n",
       "0    4             DR.            ALONSO SANCHEZ,JORGE     3  EMÉRITO    SI   \n",
       "1    5            DRA.            AZAOLA GARRIDO,ELENA     3  EMÉRITO    SI   \n",
       "2   14           BIOL.  CALDERON DIAZ BARRIGA,GRACIELA     3  EMÉRITO    SI   \n",
       "3   15             DR.          RZEDOWSKI ROTTER,JERZY     3  EMÉRITO    SI   \n",
       "4   18             DR.        PEREZ ANGON,MIGUEL ANGEL     3      NaN    SI   \n",
       "\n",
       "  FECHA DE INICIO DE VIGENCIA FECHA DE FIN DE VIGENCIA  \\\n",
       "0         2016-01-01 00:00:00      2099-12-31 00:00:00   \n",
       "1         2019-01-01 00:00:00      2100-12-31 00:00:00   \n",
       "2         2005-01-02 00:00:00      2099-12-31 00:00:00   \n",
       "3         1991-07-02 00:00:00      2099-06-30 00:00:00   \n",
       "4         2019-01-01 00:00:00      2028-12-31 00:00:00   \n",
       "\n",
       "                            ÁREA DEL CONOCIMIENTO  \\\n",
       "0                                V.- HUMANIDADES.   \n",
       "1                                V.- HUMANIDADES.   \n",
       "2                         II.- BIOLOGÍA Y QUÍMICA   \n",
       "3                         II.- BIOLOGÍA Y QUÍMICA   \n",
       "4  I.- FÍSICO-MATEMÁTICAS Y CIENCIAS DE LA TIERRA   \n",
       "\n",
       "                                        DISCIPLINA         SUBDISCIPLINA  \\\n",
       "0  OTRAS ESPECIALIDADES EN MATERIA DE ANTROPOLOGIA   ANTROPOLOGIA SOCIAL   \n",
       "1                              ANTROPOLOGIA SOCIAL                 OTROS   \n",
       "2                              CIENCIAS DE LA VIDA              BOTANICA   \n",
       "3                              CIENCIAS DE LA VIDA              BOTANICA   \n",
       "4               FISICA DE LAS PARTICULAS NUCLEARES  FISICA DE PARTICULAS   \n",
       "\n",
       "                                    ESPECIALIDAD  \\\n",
       "0                          ANTROPOLOGÍA POLÍTICA   \n",
       "1    PROBLEMAS SOCIALES, DELINCUENCIA, VIOLENCIA   \n",
       "2              SISTEMATICA DE PLANTAS VASCULARES   \n",
       "3                                            NaN   \n",
       "4  FENOMENOLOGIA DE INTERACCIONES ELECTRODEBILES   \n",
       "\n",
       "                          INSTITUCIÓN DE ADSCRIPCIÓN  \\\n",
       "0  CENTRO DE INVESTIGACIONES Y ESTUDIOS SUPERIORE...   \n",
       "1  CENTRO DE INVESTIGACIONES Y ESTUDIOS SUPERIORE...   \n",
       "2                INSTITUTO DE ECOLOGIA A.C. (INECOL)   \n",
       "3                INSTITUTO DE ECOLOGIA A.C. (INECOL)   \n",
       "4  CENTRO DE INVESTIGACION Y DE ESTUDIOS AVANZADO...   \n",
       "\n",
       "                          DEPENDENCIA DE ADSCRIPCIÓN  \\\n",
       "0                                          OCCIDENTE   \n",
       "1  AREA IV ESTADO ORGANIZACION POLITICA SOCIAL Y ...   \n",
       "2                          CENTRO REGIONAL DEL BAJIO   \n",
       "3                          CENTRO REGIONAL DEL BAJIO   \n",
       "4                             DEPARTAMENTO DE FISICA   \n",
       "\n",
       "  ENTIDAD FEDERATIVA DE ADSCRIPCIÓN PAÍS DE ADSCRIPCIÓN  \\\n",
       "0                           JALISCO              MÉXICO   \n",
       "1                  CIUDAD DE MÉXICO              MÉXICO   \n",
       "2   VERACRUZ DE IGNACIO DE LA LLAVE              MÉXICO   \n",
       "3               MICHOACÁN DE OCAMPO              MÉXICO   \n",
       "4                  CIUDAD DE MÉXICO              MÉXICO   \n",
       "\n",
       "                                     APOYO ECONÓMICO  \n",
       "0  La entrega del estímulo económico está sujeto ...  \n",
       "1                                                NaN  \n",
       "2                                                NaN  \n",
       "3                                                NaN  \n",
       "4                                                NaN  "
      ]
     },
     "execution_count": 3,
     "metadata": {},
     "output_type": "execute_result"
    }
   ],
   "source": [
    "snii.head()"
   ]
  },
  {
   "cell_type": "code",
   "execution_count": 4,
   "id": "b8fd7a36-76ad-42c8-99bb-bdd37b7548c7",
   "metadata": {
    "scrolled": true
   },
   "outputs": [
    {
     "name": "stdout",
     "output_type": "stream",
     "text": [
      "<class 'pandas.core.frame.DataFrame'>\n",
      "RangeIndex: 41367 entries, 0 to 41366\n",
      "Data columns (total 17 columns):\n",
      " #   Column                             Non-Null Count  Dtype \n",
      "---  ------                             --------------  ----- \n",
      " 0   CVU                                41367 non-null  int64 \n",
      " 1   GRADO ACADÉMICO                    41367 non-null  object\n",
      " 2   NOMBRE DEL INVESTIGADOR            41367 non-null  object\n",
      " 3   NIVEL                              41367 non-null  object\n",
      " 4   EMÉRITO                            607 non-null    object\n",
      " 5   VIVO?                              41367 non-null  object\n",
      " 6   FECHA DE INICIO DE VIGENCIA        41367 non-null  object\n",
      " 7   FECHA DE FIN DE VIGENCIA           41367 non-null  object\n",
      " 8   ÁREA DEL CONOCIMIENTO              41367 non-null  object\n",
      " 9   DISCIPLINA                         41352 non-null  object\n",
      " 10  SUBDISCIPLINA                      38320 non-null  object\n",
      " 11  ESPECIALIDAD                       39425 non-null  object\n",
      " 12  INSTITUCIÓN DE ADSCRIPCIÓN         41367 non-null  object\n",
      " 13  DEPENDENCIA DE ADSCRIPCIÓN         34112 non-null  object\n",
      " 14  ENTIDAD FEDERATIVA DE ADSCRIPCIÓN  41367 non-null  object\n",
      " 15  PAÍS DE ADSCRIPCIÓN                41367 non-null  object\n",
      " 16  APOYO ECONÓMICO                    36 non-null     object\n",
      "dtypes: int64(1), object(16)\n",
      "memory usage: 5.4+ MB\n"
     ]
    }
   ],
   "source": [
    "snii.info()"
   ]
  },
  {
   "cell_type": "code",
   "execution_count": 5,
   "id": "de02f15d-c841-4d7e-a1d4-50da88ab3714",
   "metadata": {},
   "outputs": [
    {
     "data": {
      "text/html": [
       "<div>\n",
       "<style scoped>\n",
       "    .dataframe tbody tr th:only-of-type {\n",
       "        vertical-align: middle;\n",
       "    }\n",
       "\n",
       "    .dataframe tbody tr th {\n",
       "        vertical-align: top;\n",
       "    }\n",
       "\n",
       "    .dataframe thead th {\n",
       "        text-align: right;\n",
       "    }\n",
       "</style>\n",
       "<table border=\"1\" class=\"dataframe\">\n",
       "  <thead>\n",
       "    <tr style=\"text-align: right;\">\n",
       "      <th></th>\n",
       "      <th>CVU</th>\n",
       "    </tr>\n",
       "  </thead>\n",
       "  <tbody>\n",
       "    <tr>\n",
       "      <th>count</th>\n",
       "      <td>4.136700e+04</td>\n",
       "    </tr>\n",
       "    <tr>\n",
       "      <th>mean</th>\n",
       "      <td>2.574473e+05</td>\n",
       "    </tr>\n",
       "    <tr>\n",
       "      <th>std</th>\n",
       "      <td>2.325084e+05</td>\n",
       "    </tr>\n",
       "    <tr>\n",
       "      <th>min</th>\n",
       "      <td>4.000000e+00</td>\n",
       "    </tr>\n",
       "    <tr>\n",
       "      <th>25%</th>\n",
       "      <td>5.296450e+04</td>\n",
       "    </tr>\n",
       "    <tr>\n",
       "      <th>50%</th>\n",
       "      <td>2.120800e+05</td>\n",
       "    </tr>\n",
       "    <tr>\n",
       "      <th>75%</th>\n",
       "      <td>3.761735e+05</td>\n",
       "    </tr>\n",
       "    <tr>\n",
       "      <th>max</th>\n",
       "      <td>1.248275e+06</td>\n",
       "    </tr>\n",
       "  </tbody>\n",
       "</table>\n",
       "</div>"
      ],
      "text/plain": [
       "                CVU\n",
       "count  4.136700e+04\n",
       "mean   2.574473e+05\n",
       "std    2.325084e+05\n",
       "min    4.000000e+00\n",
       "25%    5.296450e+04\n",
       "50%    2.120800e+05\n",
       "75%    3.761735e+05\n",
       "max    1.248275e+06"
      ]
     },
     "execution_count": 5,
     "metadata": {},
     "output_type": "execute_result"
    }
   ],
   "source": [
    "snii.describe()"
   ]
  },
  {
   "cell_type": "code",
   "execution_count": 6,
   "id": "87fd1ce9-bad4-41b9-b2d9-8085f6c34438",
   "metadata": {},
   "outputs": [
    {
     "data": {
      "text/plain": [
       "Index(['CVU', 'GRADO ACADÉMICO', 'NOMBRE DEL INVESTIGADOR', 'NIVEL', 'EMÉRITO',\n",
       "       'VIVO?', 'FECHA DE INICIO DE VIGENCIA', 'FECHA DE FIN DE VIGENCIA',\n",
       "       'ÁREA DEL CONOCIMIENTO', 'DISCIPLINA', 'SUBDISCIPLINA', 'ESPECIALIDAD',\n",
       "       'INSTITUCIÓN DE ADSCRIPCIÓN', 'DEPENDENCIA DE ADSCRIPCIÓN',\n",
       "       'ENTIDAD FEDERATIVA DE ADSCRIPCIÓN', 'PAÍS DE ADSCRIPCIÓN',\n",
       "       'APOYO ECONÓMICO'],\n",
       "      dtype='object')"
      ]
     },
     "execution_count": 6,
     "metadata": {},
     "output_type": "execute_result"
    }
   ],
   "source": [
    "snii.columns"
   ]
  },
  {
   "cell_type": "code",
   "execution_count": 7,
   "id": "2ac63259-d47d-47e4-8b4d-c19673261d90",
   "metadata": {},
   "outputs": [
    {
     "data": {
      "text/plain": [
       "['ARQUITECTURA Y SOCIEDAD',\n",
       " 'ARQUITECTURA BIOCLIMÁTICA Y TECNOLOG. SUSTENTABLES',\n",
       " 'HISTORIA URBANA E HISTORIA DE LA ARQUITECTURA',\n",
       " 'DISEÑO Y CONSERVACIÓN DE ARQUITECTURA DE TIERRA',\n",
       " 'ARQUIT PREHISPÁNICA Y TECNOLOGÍAS PARA SU REGISTRO',\n",
       " 'HISTORIA Y TEORÍA DE LA ARQUITECTURA, URBANISMO Y',\n",
       " 'HIST. DE LA ARQUITECTURA Y ARQ. BIOCLIMÁTICA',\n",
       " 'HISTORIA DE LA ARQUITECTURA Y URBANA',\n",
       " 'ARQUITECTURA DE COMPUTADORAS Y SISTEMAS EMBEBIDOS',\n",
       " 'ICONOGRAFÍA, ARQUITECTURA Y ARTE ESPAÑOL Y NOVOHIS',\n",
       " 'ARQUITECTURA BIOCLIMATICA',\n",
       " 'HISTORIA DE LA ARQUITECTURA',\n",
       " 'ANTROPOLGÍA ARQUITECTÓNICA',\n",
       " 'ARQUITECTURA HISTÓRICA',\n",
       " 'ARQUITECTURA',\n",
       " 'HISTORIA DE LA ARQUITECTURA MEXICANA DEL SIGLO XX',\n",
       " 'ARTES ESCÉNICAS, ARQUITECTURA VIRREINAL Y MÚSICA',\n",
       " 'HISTORIA Y CRÍTICA DE LA ARQUITECTURA',\n",
       " 'CÓMPUTO EVOLUTIVO, DISEÑO DE ARQUITECTURA HARDWARE',\n",
       " 'CRIPTOGRAFÍA, CODIFICACIÓN, ARQUITECTURAS HW/SW',\n",
       " 'ARQUITECTURA DE SOFTWARE',\n",
       " 'TEORÍA DE LA ARQUITECTURA Y LA CIUDAD',\n",
       " 'CONSTRUCCIÓN Y TECNOLOGÍA ARQUITECTÓNICAS',\n",
       " 'HISTORIA Y TEORIA DE LA ARQUITECTURA',\n",
       " 'ARQUITECTURA Y URBANÍSTICA',\n",
       " 'HISTORIA Y TEORIA DE LA ARQUITECTURA EN MEX S. XX',\n",
       " 'HISTORIA DE LA ARQUITECTURA SIGLO XX',\n",
       " 'ARQUITECTURA Y URBANISMO',\n",
       " 'ARQUITECTURA BIOCLIMÁTICA',\n",
       " 'DESARROLLO DE ARQUITECTURA-URBANISMO SUSTENTABLES',\n",
       " 'HISTORIA ARQUITECTURA Y ESCULTURA NOVOHISPANA',\n",
       " 'FILOSOFÍA DE LA ARQUITECTURA',\n",
       " 'ARQUITECTURA Y TECNOLOGÍA CONSTRUCTIVA',\n",
       " 'PATRIMONIO ARQUITECTÓNICO',\n",
       " 'SUSTENTABILIDAD URBANO-ARQUITECTONICA EN PAISES EN',\n",
       " 'ARQUITECTURA, ARTE Y SOCIEDAD VIRREINAL',\n",
       " 'ARQUITECTURA, URBANISMO Y MEDIO AMBIENTE',\n",
       " 'ARQUITECTURA Y PATRIMONIO CULTURAL',\n",
       " 'ARQUITECTURA MOVIMIENTO MODERNO',\n",
       " 'ARQUITECTURA DE COMPUTADORAS DIFUSAS',\n",
       " 'EXPERIENCIA DE LA ARQUITECTURA Y SU REPRESENTACIÓN',\n",
       " 'HISTORIA DE LA ARQUITECTURA Y EL URBANISMO',\n",
       " 'PABELLONES ARQUITECTONICOS',\n",
       " 'ARQUITECTURA DURABLE Y SUSTENTABLE',\n",
       " 'ARQUITECTURA BIOCLIMÁTICA Y SUSTENTABILIDAD',\n",
       " 'ARQUITECTURA DE PAISAJE-HORTICULTURA',\n",
       " 'CONSERVACIÓN DE PATRIMONIO ARQUITECTÓNICO',\n",
       " 'ARQUITECTURA DE TIERRA Y SUSTENTABILIDAD',\n",
       " 'ARQUITECTURA Y CIUDAD DEL TURISMO',\n",
       " 'ANARQUISMOEPISTEMOLGICO',\n",
       " 'ARQUITECTURA RELIGIOSA Y PATRIMONIO EDIFICADO',\n",
       " 'PATRIMONIOARQUITECTONICA',\n",
       " 'PATRIMONIO URBANO E HISTORIA DE LA ARQUITECTURA',\n",
       " 'EDIFICACIÓN SUSTENTABLE: ARQUITECTURA DE TIERRA',\n",
       " 'IMAGINARIOS, TURISMO Y ARQUITECTURA',\n",
       " 'ARQUITECTURA, PAISAJE Y ESPACIO PÚBLICO',\n",
       " 'GESTIÓN Y CONSERVACIÓN PATRIMONIO ARQUITECTÓNICO',\n",
       " 'ARQUITECTURA MEXICANA DEL SIGLO XIX Y VIRREINAL',\n",
       " 'CONSERVACIÓN DEL PATRIMONIO URBANO ARQUITECTÓNICO',\n",
       " 'RESTAURACIÓN Y CONSERVACION ARQUITECTÓNICA,',\n",
       " 'ARQUITECTURA SUSTENTABLE',\n",
       " 'HISTORIA DE LA ARQUITECTURA EN MÉXICO, SIGLO XX',\n",
       " 'VIVIENDA, ARQUITECTURA Y DISEÑO URBANO',\n",
       " 'ARQUITECTURA Y TECNOLGÍA DE COMPUTADORAS',\n",
       " 'ARQUITECTURA, DISEÑO Y URBANISMO',\n",
       " 'HISTORIA DE LA ARQUITECTURA MEXICANA',\n",
       " 'ARQUITECTURA, DISEÑO, URBANISMO',\n",
       " 'CIENCIAS DE LA ARQUITECTURA Y URBANISMO',\n",
       " 'ARQUITECTURA BIOCLIMÁTICA Y SUSTENTABLE',\n",
       " 'MODELADO Y DISEÑO LÓGICO DE ARQUITECTURAS HARDWARE',\n",
       " 'TEORÍA DE LA ARQUITECTURA, CIUDAD Y PATRIMONIO',\n",
       " 'TEORIA DE LA ARQUITECTURA Y EL URBANISMO',\n",
       " 'ARQUITECTURA, CONSERVACIÓN, ÁMBITOS ANTRÓPICOS',\n",
       " 'ARQUITECTURA DE PAISAJE',\n",
       " 'ESPACIO Y TIPOLOGIAS HISTORICO ARQUITECTÓNICO',\n",
       " 'ARQUITECTURA SOSTENIBLE.',\n",
       " 'ARQUITECTA Y URBANISTA',\n",
       " 'HISTORIA DE LAS CIUDADES Y DE LA ARQUITECTURA',\n",
       " 'ARQUITECTURA, PARTICIPACIÓN COMUNITARIA Y DOCENCIA',\n",
       " 'URBANOARQUITECTONICO',\n",
       " 'ARQUITECTURA Y MEDIO AMBIENTE',\n",
       " 'ARQUITECTURA SOSTENIBLE Y EFICIENCIA ENERGÉTICA',\n",
       " 'TEORÍA E HISTORIA DE LA ARQUITECTURA',\n",
       " 'ARQUITECTURA CIUDAD E IMAGINARIOS TECNOLOGICOS',\n",
       " 'ARQUITECTURA Y URBANISMO SUSTENTABLE',\n",
       " 'SOSTENIBILIDAD URBANA Y ARQUITECTÓNICA',\n",
       " 'ARQUITECTUTA',\n",
       " 'ARQUITECTURA MODERNA EN MÉXICO',\n",
       " 'HISTORIA DE LA ARQUITECTURA EN CHIAPAS',\n",
       " 'ARQUITECTURAINTERIOR',\n",
       " 'PROCESOS DE DISEÑO ARQUITECTÓNICO',\n",
       " 'ANALISIS DE CONTEXTOS URBANO-ARQUITECTONICOS',\n",
       " 'INTERIORISMO ARQUITECTONICO',\n",
       " 'MONARQUIA',\n",
       " 'ARQUITECTURA CONTEMPORANEA Y PATRIMONIO EDIFICADO',\n",
       " 'ARQUITECTURAS HETEROGENES Y HPC',\n",
       " 'PATRIMONIO CULTURAL: ARQUITECTURA Y RESTAURACIÓN',\n",
       " 'HISTORIA DE LA ARQUITECTURA Y DISEÑO TEORICO',\n",
       " 'URBANISMO Y ARQUITECTURA',\n",
       " 'ARQUITECTURA SOCIAL COMUNITARIA',\n",
       " 'ARQUITECTURA CONTEMPORANEA; TEORIA DE LA ARQUITECURA; PROYEC',\n",
       " 'COLOR, ARQUITECTURA, MEXICO',\n",
       " 'URBANISMO, ARQUITECTURA, MOVILIDAD']"
      ]
     },
     "execution_count": 7,
     "metadata": {},
     "output_type": "execute_result"
    }
   ],
   "source": [
    "especialidades = snii.ESPECIALIDAD.unique()\n",
    "especialidades = [str(especialidad) for especialidad in especialidades ]\n",
    "# for especialidad in especialidades:\n",
    "#     print(type(especialidad))\n",
    "[especialidad for especialidad in especialidades if \"arqui\".upper() in especialidad]\n"
   ]
  },
  {
   "cell_type": "code",
   "execution_count": 8,
   "id": "09670846-3e89-476d-a889-9b02a5c71078",
   "metadata": {},
   "outputs": [
    {
     "data": {
      "text/plain": [
       "['UNIVERSIDAD AUTONOMA DE GUERRERO',\n",
       " 'COLEGIO SUPERIOR AGROPECUARIO DEL ESTADO DE GUERRERO',\n",
       " 'UNIVERSIDAD INTERCULTURAL DEL ESTADO DE GUERRERO',\n",
       " 'UNIVERSIDAD POLITECNICA DEL ESTADO DE GUERRERO',\n",
       " 'GOBIERNO DEL ESTADO DE GUERRERO']"
      ]
     },
     "execution_count": 8,
     "metadata": {},
     "output_type": "execute_result"
    }
   ],
   "source": [
    "instituciones = snii[\"INSTITUCIÓN DE ADSCRIPCIÓN\"].unique()\n",
    "[institucion for institucion in instituciones if \"guerrero\" in institucion.lower()]"
   ]
  },
  {
   "cell_type": "code",
   "execution_count": 9,
   "id": "b309d77c-b39a-4d12-9aa7-be061c16a928",
   "metadata": {},
   "outputs": [],
   "source": [
    "gro = snii[snii[\"INSTITUCIÓN DE ADSCRIPCIÓN\"] == 'UNIVERSIDAD AUTONOMA DE GUERRERO']"
   ]
  },
  {
   "cell_type": "code",
   "execution_count": 10,
   "id": "2e55f8c0-2b2f-4ee7-8e07-b82e262d690c",
   "metadata": {},
   "outputs": [
    {
     "data": {
      "text/plain": [
       "NIVEL\n",
       "1    167\n",
       "C     94\n",
       "2     19\n",
       "3      4\n",
       "Name: count, dtype: int64"
      ]
     },
     "execution_count": 10,
     "metadata": {},
     "output_type": "execute_result"
    }
   ],
   "source": [
    "gro[\"NIVEL\"].value_counts()"
   ]
  },
  {
   "cell_type": "code",
   "execution_count": 11,
   "id": "ad7b04a2-882a-45c1-af4b-760d999d77b5",
   "metadata": {},
   "outputs": [
    {
     "data": {
      "text/plain": [
       "GRADO ACADÉMICO\n",
       "DR.      176\n",
       "DRA.     104\n",
       "-          2\n",
       "MTRO.      2\n",
       "Name: count, dtype: int64"
      ]
     },
     "execution_count": 11,
     "metadata": {},
     "output_type": "execute_result"
    }
   ],
   "source": [
    "gro[\"GRADO ACADÉMICO\"].value_counts()"
   ]
  },
  {
   "cell_type": "code",
   "execution_count": 12,
   "id": "4a0aa81a-7b28-4a1b-8510-9d9de6fdb5ca",
   "metadata": {},
   "outputs": [
    {
     "data": {
      "text/plain": [
       "NIVEL  GRADO ACADÉMICO\n",
       "1      -                    1\n",
       "       DR.                107\n",
       "       DRA.                58\n",
       "       MTRO.                1\n",
       "2      DR.                 13\n",
       "       DRA.                 6\n",
       "3      DR.                  2\n",
       "       DRA.                 2\n",
       "C      -                    1\n",
       "       DR.                 54\n",
       "       DRA.                38\n",
       "       MTRO.                1\n",
       "dtype: int64"
      ]
     },
     "execution_count": 12,
     "metadata": {},
     "output_type": "execute_result"
    }
   ],
   "source": [
    "gro.groupby([\"NIVEL\",\"GRADO ACADÉMICO\"]).size()"
   ]
  },
  {
   "cell_type": "code",
   "execution_count": 13,
   "id": "d34a36c4-ef62-4a82-a61f-ef24e26ebbe0",
   "metadata": {},
   "outputs": [
    {
     "data": {
      "text/plain": [
       "NIVEL  GRADO ACADÉMICO\n",
       "1      -                     87\n",
       "       BIOL.                  3\n",
       "       DR.                13584\n",
       "       DRA.                8831\n",
       "       Especialidad           1\n",
       "       ING.                   5\n",
       "       LIC                  130\n",
       "       LIC.                  14\n",
       "       M. EN C.               2\n",
       "       M.EN C.                5\n",
       "       MED                    1\n",
       "       MED.                  78\n",
       "       MTRA.                194\n",
       "       MTRO.                241\n",
       "2      ARQ.                   1\n",
       "       BIOL.                  2\n",
       "       DR.                 3668\n",
       "       DRA.                1931\n",
       "       ING.                   2\n",
       "       LIC                   21\n",
       "       LIC.                   8\n",
       "       MED.                  33\n",
       "       MTRA.                 34\n",
       "       MTRO.                 58\n",
       "3      ARQ.                   1\n",
       "       BIOL.                  5\n",
       "       DR.                 2203\n",
       "       DRA.                 788\n",
       "       ING.                   3\n",
       "       LIC                    9\n",
       "       LIC.                   4\n",
       "       MED                    3\n",
       "       MED.                  24\n",
       "       MTRA.                 10\n",
       "       MTRO.                 32\n",
       "       Q.F.B.                 1\n",
       "C      -                    224\n",
       "       ARQ.                   1\n",
       "       BIOL.                  1\n",
       "       DR.                 4734\n",
       "       DRA.                4069\n",
       "       LIC                   81\n",
       "       LIC.                   1\n",
       "       M. EN C.               1\n",
       "       M.EN C.                5\n",
       "       MED.                  35\n",
       "       MTRA.                 90\n",
       "       MTRO.                108\n",
       "dtype: int64"
      ]
     },
     "execution_count": 13,
     "metadata": {},
     "output_type": "execute_result"
    }
   ],
   "source": [
    "snii.groupby([\"NIVEL\",\"GRADO ACADÉMICO\"]).size()"
   ]
  },
  {
   "cell_type": "code",
   "execution_count": null,
   "id": "63625188-2947-4d00-af2d-7d1ba4e37b92",
   "metadata": {},
   "outputs": [],
   "source": []
  }
 ],
 "metadata": {
  "kernelspec": {
   "display_name": "Python 3 (ipykernel)",
   "language": "python",
   "name": "python3"
  },
  "language_info": {
   "codemirror_mode": {
    "name": "ipython",
    "version": 3
   },
   "file_extension": ".py",
   "mimetype": "text/x-python",
   "name": "python",
   "nbconvert_exporter": "python",
   "pygments_lexer": "ipython3",
   "version": "3.9.19"
  }
 },
 "nbformat": 4,
 "nbformat_minor": 5
}
